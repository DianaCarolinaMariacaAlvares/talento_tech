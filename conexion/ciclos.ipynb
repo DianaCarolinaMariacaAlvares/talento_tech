{
 "cells": [
  {
   "cell_type": "markdown",
   "id": "e3ea6f45",
   "metadata": {},
   "source": [
    "### ***Ejercicios ciclos***"
   ]
  },
  {
   "cell_type": "markdown",
   "id": "ec40c618",
   "metadata": {},
   "source": [
    "Complete los siguientes ejercicios sin ejemplos previos. Puede usar cualquier tipo de ciclo.\n",
    "\n",
    "1. Solicite al usuario ingresar 5 nombres y guárdelos en una lista.\n",
    "2. Muestre cuántos nombres comienzan con la letra \"A\".\n",
    "3. Cree una simulación de llenado de formulario donde se pide la edad y se valida que sea un número entre 18 y 99. Si no es válido, se repite."
   ]
  },
  {
   "cell_type": "code",
   "execution_count": 1,
   "id": "82f50e1e",
   "metadata": {},
   "outputs": [
    {
     "name": "stdout",
     "output_type": "stream",
     "text": [
      "['Andres', 'Roberto', 'Laura', 'Andrea', 'Ana', 'Luis']\n",
      "Nombres que comienzan con A: 3\n"
     ]
    }
   ],
   "source": [
    "nombres = []\n",
    "nombres_comienzan_a = 0\n",
    "for i in range(0,6):\n",
    "    nombres.append(input(\"Ingrese un nombre: \"))\n",
    "    if str.lower(nombres[i]).startswith(\"a\"):\n",
    "        nombres_comienzan_a +=1\n",
    "print(nombres)\n",
    "print(f\"Nombres que comienzan con A: {nombres_comienzan_a}\")\n"
   ]
  },
  {
   "cell_type": "code",
   "execution_count": 3,
   "id": "be50dbc8",
   "metadata": {},
   "outputs": [
    {
     "name": "stdout",
     "output_type": "stream",
     "text": [
      "Edad incorrecta, vuelva a intentar\n",
      "La edad inscrita no es válida en el contexto, intente de nuevo\n",
      "La edad ingresada es: 20\n"
     ]
    }
   ],
   "source": [
    "edad = None\n",
    "while edad == None:\n",
    "    try:\n",
    "        edad = int(input(\"Ingre su edad: \"))\n",
    "    except ValueError:\n",
    "        print(\"Edad incorrecta, vuelva a intentar\")\n",
    "    except Exception as e:\n",
    "        print(\"Edad incorrecta, vuelva a intentar\")\n",
    "        print(f\"Error: {e}\")\n",
    "    else:\n",
    "        if edad < 18 or edad > 99:\n",
    "            print(\"La edad inscrita no es válida en el contexto, intente de nuevo\")\n",
    "            edad = None\n",
    "\n",
    "print(f\"La edad ingresada es: {edad}\")"
   ]
  }
 ],
 "metadata": {
  "kernelspec": {
   "display_name": "Python 3",
   "language": "python",
   "name": "python3"
  },
  "language_info": {
   "codemirror_mode": {
    "name": "ipython",
    "version": 3
   },
   "file_extension": ".py",
   "mimetype": "text/x-python",
   "name": "python",
   "nbconvert_exporter": "python",
   "pygments_lexer": "ipython3",
   "version": "3.13.4"
  }
 },
 "nbformat": 4,
 "nbformat_minor": 5
}
