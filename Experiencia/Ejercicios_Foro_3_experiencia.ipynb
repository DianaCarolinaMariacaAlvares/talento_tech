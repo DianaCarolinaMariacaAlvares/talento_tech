{
 "cells": [
  {
   "cell_type": "markdown",
   "id": "a4e9e477",
   "metadata": {},
   "source": [
    "### ***EJERCICIOS FORO 3 EXPERIENCIA***"
   ]
  },
  {
   "cell_type": "markdown",
   "id": "8c293c7e",
   "metadata": {},
   "source": [
    "### Ejercicio 1:\n",
    "\n",
    "Teniendo en cuenta el archivo trabajado en clase para el primer ejercicio de sumar los multiplos de 3 entre el rango de 1 a 100.\n",
    "\n",
    "1. En la primera forma modificar el codigo de tal manera que el calculo de la suma acumulada de los multiplos de 3, no este por fuera del ciclo infinito\n",
    "\n",
    "2. En la segunda forma modificar el codigo de tal manera que si el rango_final no es un número, que el programa no vuelva a solicitar el rango_inicial unicamente\n",
    "el rango_final"
   ]
  },
  {
   "cell_type": "code",
   "execution_count": null,
   "id": "87714345",
   "metadata": {},
   "outputs": [],
   "source": [
    "#validando que sean números con el metodo isdigit() ---> primera forma\n",
    "suma = 0\n",
    "while True:    \n",
    "    rango_inicial = input(\"Digite el rango inicial para el ciclo for: \")\n",
    "    rango_final = input(\"Digite el rango final para el ciclo for: \")\n",
    "\n",
    "    if rango_inicial.isdigit():\n",
    "        if rango_final.isdigit():\n",
    "            rango_inicial = int(rango_inicial)\n",
    "            rango_final = int(rango_final)\n",
    "            if rango_final > rango_inicial:\n",
    "                for i in range(rango_inicial, rango_final + 1):\n",
    "                    if i % 3 == 0:\n",
    "                        suma += i\n",
    "                print(f\"La suma de los multiplos de 3 entre {rango_inicial} y {rango_final} es igual a {suma}\")\n",
    "                break\n",
    "            else:\n",
    "                print(\"El rango final debe ser mayor que el rango inicial\")\n",
    "        else:\n",
    "            print(\"Su rango final no es un número: INTENTELO DE NUEVO\")\n",
    "    else:\n",
    "        print(\"Su rango inicial no es un número: INTENTELO DE NUEVO\")"
   ]
  },
  {
   "cell_type": "code",
   "execution_count": null,
   "id": "88fb1629",
   "metadata": {},
   "outputs": [],
   "source": [
    "#validando que sean enteros a traves de try...except ---> segunda forma\n",
    "suma = 0\n",
    "\n",
    "while True:\n",
    "    try:\n",
    "        rango_inicial = int(input(\"Digite el rango inicial para el ciclo for: \"))\n",
    "    except Exception as e:\n",
    "        print(f\"Su rango inicial no válido, error {e}\")\n",
    "        print(\"INTENTELO DE NUEVO\")\n",
    "    else:\n",
    "        break\n",
    "while True:\n",
    "    try:\n",
    "        rango_final = int(input(\"Digite el rango final para el ciclo for: \"))\n",
    "    except Exception as e:\n",
    "        print(f\"Su rango final no válido, error {e}\")\n",
    "        print(\"INTENTELO DE NUEVO\")\n",
    "    else:\n",
    "        if rango_final > rango_inicial:\n",
    "            for i in range(rango_inicial, rango_final + 1):\n",
    "                if i % 3 == 0:\n",
    "                    suma += i\n",
    "            print(f\"La suma de los multiplos de 3 entre {rango_inicial} y {rango_final} es igual a {suma}\")\n",
    "            break\n",
    "        else:\n",
    "            print(\"El rango final debe ser mayor que el rango inicial\")"
   ]
  },
  {
   "cell_type": "markdown",
   "id": "1fbd510e",
   "metadata": {},
   "source": [
    "### Ejercicio 2:\n",
    "\n",
    "Pide un número entero positivo al usuario y cuenta cuántos dígitos tiene usando un ciclo while.\n",
    "\n",
    "Por medio del bloque try...except...else controlar que el usuario ingrese un número, de lo contrario enviarle el mensaje y mantenerlo en un ciclo infinito hasta que en el bloque try no exista ninguna excepción.\n",
    "\n",
    "la excepción debera ser controlada especificamente VALUEERROR"
   ]
  },
  {
   "cell_type": "code",
   "execution_count": null,
   "id": "9f21837a",
   "metadata": {},
   "outputs": [],
   "source": [
    "while True:\n",
    "    try:\n",
    "        numero = int(input(\"Digite un número entero positivo: \"))\n",
    "    except ValueError:\n",
    "        print(\"El número digitado no es un número entero, INTENTE DE NUEVO\")\n",
    "    else:\n",
    "        contador = 0 \n",
    "        n = numero\n",
    "\n",
    "        while n > 0:\n",
    "            n = n//10\n",
    "            contador += 1\n",
    "        print(f\"El número {numero} tiene {contador} digitos\")\n",
    "        break"
   ]
  }
 ],
 "metadata": {
  "kernelspec": {
   "display_name": "Python 3",
   "language": "python",
   "name": "python3"
  },
  "language_info": {
   "codemirror_mode": {
    "name": "ipython",
    "version": 3
   },
   "file_extension": ".py",
   "mimetype": "text/x-python",
   "name": "python",
   "nbconvert_exporter": "python",
   "pygments_lexer": "ipython3",
   "version": "3.13.4"
  }
 },
 "nbformat": 4,
 "nbformat_minor": 5
}
