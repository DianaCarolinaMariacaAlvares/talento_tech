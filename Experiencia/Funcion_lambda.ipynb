{
 "cells": [
  {
   "cell_type": "markdown",
   "id": "b284295e",
   "metadata": {},
   "source": [
    "### ***Función Lambda***"
   ]
  },
  {
   "cell_type": "code",
   "execution_count": null,
   "id": "9ba64131",
   "metadata": {},
   "outputs": [
    {
     "name": "stdout",
     "output_type": "stream",
     "text": [
      "La potencia es: 2401.0\n",
      "la raiz 2.0 de 49.0 es: 7.0\n",
      "El logaritmo de 49.0 en base 2.0 es: 5.614709844115208\n"
     ]
    }
   ],
   "source": [
    "# TAREA (terminar siguiendo el ejemplo anterior):\n",
    "import math\n",
    "\n",
    "n1 = float(input(\"Ingresa el 1er numero: \"))\n",
    "n2 = float(input(\"Ingresa el 2do numero: \"))\n",
    "\n",
    "# Potenciación\n",
    "potencia = lambda base,exponente: math.pow(base,exponente)# base**exponente\n",
    "resultado = potencia(n1,n2)\n",
    "print(f\"La potencia es: {resultado}\")\n",
    "\n",
    "# Radicación\n",
    "raiz = lambda radicando, indice: math.pow(radicando,(1/indice))\n",
    "resultado = raiz(n1,n2)\n",
    "print(f\"la raiz {n2} de {n1} es: {resultado}\")\n",
    "\n",
    "# Logaritmación\n",
    "logaritmo = lambda argumento,base: math.log(argumento,base)\n",
    "resultado = logaritmo(n1,n2)\n",
    "print(f\"El logaritmo de {n1} en base {n2} es: {resultado}\")"
   ]
  },
  {
   "cell_type": "code",
   "execution_count": 10,
   "id": "781a3aad",
   "metadata": {},
   "outputs": [
    {
     "name": "stdout",
     "output_type": "stream",
     "text": [
      "El seno del angulo 90.0 es: 1.0\n",
      "El coseno del angulo 90.0 es: 0.0\n",
      "La tangente en 90.0 no esta definida\n"
     ]
    }
   ],
   "source": [
    "# TAREA (terminar siguiendo el ejemplo anterior):\n",
    "import math\n",
    "\n",
    "n1 = float(input(\"Ingresa un ángulo en grados: \"))\n",
    "\n",
    "angulo_radianes = math.radians(n1)\n",
    "\n",
    "# Seno\n",
    "seno = lambda angulo: math.sin(angulo)\n",
    "resultado = seno(angulo_radianes)\n",
    "print(f\"El seno del angulo {n1} es: {round(resultado,10)}\")\n",
    "\n",
    "# Coseno\n",
    "coseno = lambda angulo: math.cos(angulo)\n",
    "resultado= coseno(angulo_radianes)\n",
    "print(f\"El coseno del angulo {n1} es: {round(resultado,10)}\")\n",
    "\n",
    "# Tangente\n",
    "if round(coseno(angulo_radianes),10) == 0:\n",
    "    print(f\"La tangente en {n1} no esta definida\")\n",
    "else:\n",
    "    tangente = lambda angulo: math.tan(angulo)\n",
    "    resultado= tangente(angulo_radianes)\n",
    "    print(f\"La tangente del angulo {n1} es: {round(resultado,10)}\")\n",
    "     "
   ]
  }
 ],
 "metadata": {
  "kernelspec": {
   "display_name": "Python 3",
   "language": "python",
   "name": "python3"
  },
  "language_info": {
   "codemirror_mode": {
    "name": "ipython",
    "version": 3
   },
   "file_extension": ".py",
   "mimetype": "text/x-python",
   "name": "python",
   "nbconvert_exporter": "python",
   "pygments_lexer": "ipython3",
   "version": "3.13.4"
  }
 },
 "nbformat": 4,
 "nbformat_minor": 5
}
