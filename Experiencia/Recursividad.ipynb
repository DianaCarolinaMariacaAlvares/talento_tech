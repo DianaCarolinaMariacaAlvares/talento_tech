{
 "cells": [
  {
   "cell_type": "markdown",
   "id": "a59781ce",
   "metadata": {},
   "source": [
    "### ***Recursividad***"
   ]
  },
  {
   "cell_type": "markdown",
   "id": "5fabb89c",
   "metadata": {},
   "source": [
    "Función de Fibonacci"
   ]
  },
  {
   "cell_type": "code",
   "execution_count": 4,
   "id": "49f964e7",
   "metadata": {},
   "outputs": [
    {
     "name": "stdout",
     "output_type": "stream",
     "text": [
      "0\n",
      "1\n",
      "1\n",
      "2\n",
      "3\n",
      "5\n",
      "8\n",
      "13\n",
      "21\n",
      "34\n",
      "55\n",
      "89\n",
      "144\n",
      "233\n",
      "377\n",
      "610\n",
      "987\n",
      "1597\n",
      "2584\n",
      "4181\n",
      "6765\n"
     ]
    }
   ],
   "source": [
    "def fibonacci(n): # n debe ser un numero entero positivo incluyendo el cero (numero natural)\n",
    "     if n <= 1:\n",
    "         return n\n",
    "     else:\n",
    "         return fibonacci(n - 1) + fibonacci(n - 2) # aquí se aplica la recursividad pues dentro del mismo bloque de código llamo a la función\n",
    "\n",
    "for i in range(0,21):\n",
    "    print(fibonacci(i))\n",
    "\n",
    "\n"
   ]
  },
  {
   "cell_type": "markdown",
   "id": "c109885a",
   "metadata": {},
   "source": [
    "Función factorial"
   ]
  },
  {
   "cell_type": "code",
   "execution_count": null,
   "id": "027e3b6d",
   "metadata": {},
   "outputs": [
    {
     "name": "stdout",
     "output_type": "stream",
     "text": [
      "1\n",
      "1\n",
      "2\n",
      "6\n",
      "24\n",
      "120\n",
      "720\n",
      "5040\n",
      "40320\n",
      "362880\n",
      "3628800\n"
     ]
    }
   ],
   "source": [
    "# Con recursividad\n",
    "def factorial(n):\n",
    "    if n == 0:\n",
    "        respuesta = 1\n",
    "    else:\n",
    "        respuesta = n * factorial(n-1)\n",
    "    return respuesta\n",
    "    \n",
    "for i in range(0,11):\n",
    "    print(factorial(i))\n"
   ]
  },
  {
   "cell_type": "code",
   "execution_count": 2,
   "id": "8f420c0a",
   "metadata": {},
   "outputs": [
    {
     "name": "stdout",
     "output_type": "stream",
     "text": [
      "1\n",
      "1\n",
      "2\n",
      "6\n",
      "24\n",
      "120\n",
      "720\n",
      "5040\n",
      "40320\n",
      "362880\n",
      "3628800\n"
     ]
    }
   ],
   "source": [
    "# Sin recursividad\n",
    "def factorial(n):\n",
    "    if n == 0:\n",
    "        respuesta = 1\n",
    "    else:\n",
    "        respuesta = 1\n",
    "        for j in range(1, n+1):\n",
    "            respuesta *= j\n",
    "    return respuesta\n",
    "    \n",
    "for i in range(0,11):\n",
    "    print(factorial(i))\n",
    "\n"
   ]
  }
 ],
 "metadata": {
  "kernelspec": {
   "display_name": "Python 3",
   "language": "python",
   "name": "python3"
  },
  "language_info": {
   "codemirror_mode": {
    "name": "ipython",
    "version": 3
   },
   "file_extension": ".py",
   "mimetype": "text/x-python",
   "name": "python",
   "nbconvert_exporter": "python",
   "pygments_lexer": "ipython3",
   "version": "3.13.4"
  }
 },
 "nbformat": 4,
 "nbformat_minor": 5
}
