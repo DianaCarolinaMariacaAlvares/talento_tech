{
 "cells": [
  {
   "cell_type": "markdown",
   "id": "e0986f67",
   "metadata": {},
   "source": [
    "### ***Operadores ternarios***"
   ]
  },
  {
   "cell_type": "markdown",
   "id": "ce6ed0fc",
   "metadata": {},
   "source": [
    "1. Solictar un dato por teclado el cual sera almacenado en la variable precio.\n",
    "2. Validar que ese dato ingresado sea tipo numerico especificamente float (isdigit , con conversión de tipo)\n",
    "3. validar si el precio esta en uno de los siguientes rangos (con operador ternario)\n",
    "\n",
    "    *> 10000 -  <= 50000\n",
    "\n",
    "    *> 50000 - <= 100000\n",
    "\n",
    "    *> 100000 - <= 200000\n",
    "    \n",
    "    *> 200000\n",
    "\n",
    "4. Segun el rango imprimir un mensaje informando en que rango esta el valor ingresado.\n",
    "5. El mensaje del rango en el cual se encuentra debe ser almacenado en la variable mensaje."
   ]
  },
  {
   "cell_type": "code",
   "execution_count": 6,
   "id": "5ef78a5d",
   "metadata": {},
   "outputs": [
    {
     "name": "stdout",
     "output_type": "stream",
     "text": [
      "El dato debe ser un numero, intente de nuevo\n",
      "El dato debe ser un numero, intente de nuevo\n",
      "El precio ingresado (60000.0) es mayor a $10.000 y menor o igual a $100.000\n"
     ]
    }
   ],
   "source": [
    "precio = None\n",
    "while precio == None:\n",
    "    try:\n",
    "        precio = float(input(\"Ingrese un precio: \"))\n",
    "    except ValueError:\n",
    "        print(\"El dato debe ser un numero, intente de nuevo\")\n",
    "    else: \n",
    "        rango = (\"es mayor a $10.000 y menor o igual a $50.000\" if 10000 < precio <= 50000 else \n",
    "                 \"es mayor a $10.000 y menor o igual a $100.000\" if 50000 < precio <= 100000 else \n",
    "                 \"es mayor a $100.000 y menor o igual a $200.000\" if 100000 < precio <= 200000 else\n",
    "                 \"es mayor a $100.000 y menor o igual a $200.000\" if precio > 200000 else \"no es menor o igual a $10.000\")\n",
    "\n",
    "mensaje = \"El precio ingresado (\" + str(precio) + \") \" + rango\n",
    "print(mensaje)"
   ]
  }
 ],
 "metadata": {
  "kernelspec": {
   "display_name": "Python 3",
   "language": "python",
   "name": "python3"
  },
  "language_info": {
   "codemirror_mode": {
    "name": "ipython",
    "version": 3
   },
   "file_extension": ".py",
   "mimetype": "text/x-python",
   "name": "python",
   "nbconvert_exporter": "python",
   "pygments_lexer": "ipython3",
   "version": "3.13.4"
  }
 },
 "nbformat": 4,
 "nbformat_minor": 5
}
