{
 "cells": [
  {
   "cell_type": "markdown",
   "id": "f32c9b9c",
   "metadata": {},
   "source": [
    "### ***EJERCICIOS FORO 1 EXPERIENCIA***"
   ]
  },
  {
   "cell_type": "markdown",
   "id": "edfa5706",
   "metadata": {},
   "source": [
    "## ***1.***\n",
    "\n",
    "Una persona desea saber si puede conducir cierto tipo de vehículo. Las reglas son:\n",
    "\n",
    "- Debe tener licencia de conducir vigente (la variable `tiene_licencia` es True).\n",
    "- Si la persona tiene menos de 21 años (la variable `edad`), solo puede conducir motocicleta (la variable `vehiculo` es igual a `\"motocicleta\"`).\n",
    "- Si la persona tiene 21 años o más, puede conducir motocicleta o automóvil (la variable `vehiculo` es `\"motocicleta\"` o `\"automovil\"`).\n",
    "\n",
    "Crea un programa en Python que utilice condicionales anidados para determinar si la persona puede conducir el tipo de vehículo elegido y muestre un mensaje apropiado."
   ]
  },
  {
   "cell_type": "code",
   "execution_count": null,
   "id": "0dd0444d",
   "metadata": {},
   "outputs": [
    {
     "name": "stdout",
     "output_type": "stream",
     "text": [
      "No puede conducir ningún vehiculo puesto que no cuenta con licencia\n"
     ]
    }
   ],
   "source": [
    "tiene_licencia = True\n",
    "edad = 21\n",
    "vehiculo = \"automovil\"\n",
    "\n",
    "if tiene_licencia:\n",
    "    if edad < 21:\n",
    "        if vehiculo == \"motocicleta\":\n",
    "            print(f\"Puede conducir la {vehiculo}\")\n",
    "        else: \n",
    "            print(f\"No puede conducir un vehiculo de tipo {vehiculo}\")\n",
    "    else:\n",
    "        print(f\"Puede conducir su {vehiculo}\")\n",
    "else:\n",
    "    print(\"No puede conducir ningún vehiculo puesto que no cuenta con licencia\")"
   ]
  },
  {
   "cell_type": "markdown",
   "id": "41235be6",
   "metadata": {},
   "source": [
    "### ***2.***\n",
    "\n",
    "Una tienda ofrece un descuento especial bajo estas condiciones:\n",
    "\n",
    "- El cliente debe tener membresía activa (la variable `membresia_activa` es True).\n",
    "- Si la edad del cliente (`edad`) es menor de 18, el descuento es del 10%.\n",
    "- Si la edad está entre 18 y 60 (inclusive), el descuento es del 20%.\n",
    "- Si la edad es mayor de 60, el descuento es del 30%.\n",
    "\n",
    "Crea un programa en Python que utilice condicionales anidados para determinar el descuento que recibe un cliente y muestre el porcentaje de descuento o un mensaje si no tiene derecho al descuento."
   ]
  },
  {
   "cell_type": "code",
   "execution_count": 13,
   "id": "eeab4d70",
   "metadata": {},
   "outputs": [
    {
     "name": "stdout",
     "output_type": "stream",
     "text": [
      "¡Felicidades! la tienda le ofrece un descuento del 20%\n"
     ]
    }
   ],
   "source": [
    "membresia_activa = True\n",
    "edad = 30\n",
    "\n",
    "if membresia_activa:\n",
    "    if edad < 18:\n",
    "        descuento = 10\n",
    "    elif edad <= 60:\n",
    "        descuento = 20\n",
    "    else:\n",
    "        descuento = 30\n",
    "    print(f\"¡Felicidades! la tienda le ofrece un descuento del {descuento}%\")\n",
    "else:\n",
    "    print(\"Usted no cuenta con una membresía activa por lo que no es puede acceder al descuento especial\")\n",
    "    "
   ]
  },
  {
   "cell_type": "markdown",
   "id": "7a31ca57",
   "metadata": {},
   "source": [
    "### ***3.***\n",
    "\n",
    "Determinar si un número ingresado por teclado es primo"
   ]
  },
  {
   "cell_type": "code",
   "execution_count": 33,
   "id": "3a116985",
   "metadata": {},
   "outputs": [
    {
     "name": "stdout",
     "output_type": "stream",
     "text": [
      "El número 5 es primo\n"
     ]
    }
   ],
   "source": [
    "numero = int(input(\"Ingrese un número para evaluar si es primo: \"))\n",
    "es_primo = True\n",
    "if numero > 1:\n",
    "    for i in range(2,numero):\n",
    "        if numero % i == 0:\n",
    "            es_primo = False\n",
    "            break\n",
    "    if es_primo:\n",
    "        print(f\"El número {numero} es primo\")\n",
    "    else:\n",
    "        print(f\"El número {numero} no es primo\")\n",
    "else:\n",
    "    print(f\"El número {numero} no es primo\")"
   ]
  }
 ],
 "metadata": {
  "kernelspec": {
   "display_name": "Python 3",
   "language": "python",
   "name": "python3"
  },
  "language_info": {
   "codemirror_mode": {
    "name": "ipython",
    "version": 3
   },
   "file_extension": ".py",
   "mimetype": "text/x-python",
   "name": "python",
   "nbconvert_exporter": "python",
   "pygments_lexer": "ipython3",
   "version": "3.13.4"
  }
 },
 "nbformat": 4,
 "nbformat_minor": 5
}
